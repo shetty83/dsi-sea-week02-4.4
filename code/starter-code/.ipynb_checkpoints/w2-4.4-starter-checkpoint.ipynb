{
 "cells": [
  {
   "cell_type": "code",
   "execution_count": 3,
   "metadata": {
    "button": false,
    "collapsed": true,
    "deletable": true,
    "new_sheet": false,
    "run_control": {
     "read_only": false
    }
   },
   "outputs": [],
   "source": [
    "import pandas as pd\n",
    "import numpy as np"
   ]
  },
  {
   "cell_type": "markdown",
   "metadata": {
    "button": false,
    "deletable": true,
    "new_sheet": false,
    "run_control": {
     "read_only": false
    }
   },
   "source": [
    "### Lab"
   ]
  },
  {
   "cell_type": "markdown",
   "metadata": {
    "button": false,
    "collapsed": false,
    "deletable": true,
    "new_sheet": false,
    "run_control": {
     "read_only": false
    }
   },
   "source": [
    "### Load your database here recruit!"
   ]
  },
  {
   "cell_type": "code",
   "execution_count": 4,
   "metadata": {
    "button": false,
    "collapsed": false,
    "deletable": true,
    "new_sheet": false,
    "run_control": {
     "read_only": false
    }
   },
   "outputs": [
    {
     "name": "stdout",
     "output_type": "stream",
     "text": [
      "16376\n",
      "['page_id' 'name' 'urlslug' 'ID' 'ALIGN' 'EYE' 'HAIR' 'SEX' 'GSM' 'ALIVE'\n",
      " 'APPEARANCES' 'FIRST APPEARANCE' 'Year']\n"
     ]
    },
    {
     "data": {
      "text/html": [
       "<div>\n",
       "<table border=\"1\" class=\"dataframe\">\n",
       "  <thead>\n",
       "    <tr style=\"text-align: right;\">\n",
       "      <th></th>\n",
       "      <th>page_id</th>\n",
       "      <th>name</th>\n",
       "      <th>urlslug</th>\n",
       "      <th>ID</th>\n",
       "      <th>ALIGN</th>\n",
       "      <th>EYE</th>\n",
       "      <th>HAIR</th>\n",
       "      <th>SEX</th>\n",
       "      <th>GSM</th>\n",
       "      <th>ALIVE</th>\n",
       "      <th>APPEARANCES</th>\n",
       "      <th>FIRST APPEARANCE</th>\n",
       "      <th>Year</th>\n",
       "    </tr>\n",
       "  </thead>\n",
       "  <tbody>\n",
       "    <tr>\n",
       "      <th>0</th>\n",
       "      <td>1678</td>\n",
       "      <td>Spider-Man (Peter Parker)</td>\n",
       "      <td>\\/Spider-Man_(Peter_Parker)</td>\n",
       "      <td>Secret Identity</td>\n",
       "      <td>Good Characters</td>\n",
       "      <td>Hazel Eyes</td>\n",
       "      <td>Brown Hair</td>\n",
       "      <td>Male Characters</td>\n",
       "      <td>NaN</td>\n",
       "      <td>Living Characters</td>\n",
       "      <td>4043.0</td>\n",
       "      <td>Aug-62</td>\n",
       "      <td>1962.0</td>\n",
       "    </tr>\n",
       "    <tr>\n",
       "      <th>1</th>\n",
       "      <td>7139</td>\n",
       "      <td>Captain America (Steven Rogers)</td>\n",
       "      <td>\\/Captain_America_(Steven_Rogers)</td>\n",
       "      <td>Public Identity</td>\n",
       "      <td>Good Characters</td>\n",
       "      <td>Blue Eyes</td>\n",
       "      <td>White Hair</td>\n",
       "      <td>Male Characters</td>\n",
       "      <td>NaN</td>\n",
       "      <td>Living Characters</td>\n",
       "      <td>3360.0</td>\n",
       "      <td>Mar-41</td>\n",
       "      <td>1941.0</td>\n",
       "    </tr>\n",
       "    <tr>\n",
       "      <th>2</th>\n",
       "      <td>64786</td>\n",
       "      <td>Wolverine (James \\\"Logan\\\" Howlett)</td>\n",
       "      <td>\\/Wolverine_(James_%22Logan%22_Howlett)</td>\n",
       "      <td>Public Identity</td>\n",
       "      <td>Neutral Characters</td>\n",
       "      <td>Blue Eyes</td>\n",
       "      <td>Black Hair</td>\n",
       "      <td>Male Characters</td>\n",
       "      <td>NaN</td>\n",
       "      <td>Living Characters</td>\n",
       "      <td>3061.0</td>\n",
       "      <td>Oct-74</td>\n",
       "      <td>1974.0</td>\n",
       "    </tr>\n",
       "    <tr>\n",
       "      <th>3</th>\n",
       "      <td>1868</td>\n",
       "      <td>Iron Man (Anthony \\\"Tony\\\" Stark)</td>\n",
       "      <td>\\/Iron_Man_(Anthony_%22Tony%22_Stark)</td>\n",
       "      <td>Public Identity</td>\n",
       "      <td>Good Characters</td>\n",
       "      <td>Blue Eyes</td>\n",
       "      <td>Black Hair</td>\n",
       "      <td>Male Characters</td>\n",
       "      <td>NaN</td>\n",
       "      <td>Living Characters</td>\n",
       "      <td>2961.0</td>\n",
       "      <td>Mar-63</td>\n",
       "      <td>1963.0</td>\n",
       "    </tr>\n",
       "    <tr>\n",
       "      <th>4</th>\n",
       "      <td>2460</td>\n",
       "      <td>Thor (Thor Odinson)</td>\n",
       "      <td>\\/Thor_(Thor_Odinson)</td>\n",
       "      <td>No Dual Identity</td>\n",
       "      <td>Good Characters</td>\n",
       "      <td>Blue Eyes</td>\n",
       "      <td>Blond Hair</td>\n",
       "      <td>Male Characters</td>\n",
       "      <td>NaN</td>\n",
       "      <td>Living Characters</td>\n",
       "      <td>2258.0</td>\n",
       "      <td>Nov-50</td>\n",
       "      <td>1950.0</td>\n",
       "    </tr>\n",
       "  </tbody>\n",
       "</table>\n",
       "</div>"
      ],
      "text/plain": [
       "   page_id                                 name  \\\n",
       "0     1678            Spider-Man (Peter Parker)   \n",
       "1     7139      Captain America (Steven Rogers)   \n",
       "2    64786  Wolverine (James \\\"Logan\\\" Howlett)   \n",
       "3     1868    Iron Man (Anthony \\\"Tony\\\" Stark)   \n",
       "4     2460                  Thor (Thor Odinson)   \n",
       "\n",
       "                                   urlslug                ID  \\\n",
       "0              \\/Spider-Man_(Peter_Parker)   Secret Identity   \n",
       "1        \\/Captain_America_(Steven_Rogers)   Public Identity   \n",
       "2  \\/Wolverine_(James_%22Logan%22_Howlett)   Public Identity   \n",
       "3    \\/Iron_Man_(Anthony_%22Tony%22_Stark)   Public Identity   \n",
       "4                    \\/Thor_(Thor_Odinson)  No Dual Identity   \n",
       "\n",
       "                ALIGN         EYE        HAIR              SEX  GSM  \\\n",
       "0     Good Characters  Hazel Eyes  Brown Hair  Male Characters  NaN   \n",
       "1     Good Characters   Blue Eyes  White Hair  Male Characters  NaN   \n",
       "2  Neutral Characters   Blue Eyes  Black Hair  Male Characters  NaN   \n",
       "3     Good Characters   Blue Eyes  Black Hair  Male Characters  NaN   \n",
       "4     Good Characters   Blue Eyes  Blond Hair  Male Characters  NaN   \n",
       "\n",
       "               ALIVE  APPEARANCES FIRST APPEARANCE    Year  \n",
       "0  Living Characters       4043.0           Aug-62  1962.0  \n",
       "1  Living Characters       3360.0           Mar-41  1941.0  \n",
       "2  Living Characters       3061.0           Oct-74  1974.0  \n",
       "3  Living Characters       2961.0           Mar-63  1963.0  \n",
       "4  Living Characters       2258.0           Nov-50  1950.0  "
      ]
     },
     "execution_count": 4,
     "metadata": {},
     "output_type": "execute_result"
    }
   ],
   "source": [
    "df= pd.read_csv('./../../assets/marvel.csv')\n",
    "print len(df)\n",
    "\n",
    "print df.columns.values\n",
    "df.head()"
   ]
  },
  {
   "cell_type": "markdown",
   "metadata": {
    "button": false,
    "deletable": true,
    "new_sheet": false,
    "run_control": {
     "read_only": false
    }
   },
   "source": [
    "### Here are our findings from extensive research and hero fighting. Run this field once. It will set up all of your data for you. Feel free to add additional weaknesses and affinities if you feel like it!"
   ]
  },
  {
   "cell_type": "code",
   "execution_count": 5,
   "metadata": {
    "button": false,
    "collapsed": false,
    "deletable": true,
    "new_sheet": false,
    "run_control": {
     "read_only": false
    }
   },
   "outputs": [],
   "source": [
    "def randomly(length):\n",
    "    return np.random.randint(0, length, size = 1)[0]\n",
    "\n",
    "def pull_unique(length, arr):\n",
    "    this_rand = randomly(length)\n",
    "    while this_rand in arr:\n",
    "        this_rand = randomly(length)\n",
    "    return this_rand\n",
    "\n",
    "\n",
    "value_length = len(df) + len(df) / 20\n",
    "\n",
    "#the hero's weakness\n",
    "weaknesses = [\"ponies\",\"butterflies\",\"apple pie\",\"spiders\",\n",
    "              \"giant robots\",\"fireballs\",\"tv static\",\"gerbils\",\n",
    "              \"lactose\",\"Walmart\",\"boomerangs\",\"kangaroos\",\"true love\", \"Shaq\"]\n",
    "\n",
    "#the hero's favorite hobby\n",
    "affinities = [\"balloons\",\"rubber ducks\",\"plasma laser guns\",\"ghosts\",\n",
    "              \"clouds\",\"bouncy balls\",\"milkshakes\",\"storms\",\n",
    "              \"preschools\",\"Panda Express\",\"shag rugs\",\"bubble gum\",\"Kanye West\"]\n",
    "\n",
    "super_weaknesses = [weaknesses[randomly(len(weaknesses))] for x in range(value_length)]\n",
    "affinities = [affinities[randomly(len(affinities))] for x in range(value_length)]\n",
    "killability = [randomly(10) + 1 for x in range(value_length)]\n",
    "more_ids = list(df['page_id'])\n",
    "\n",
    "for x in range(value_length - len(df)):\n",
    "    unique = [pull_unique(100000,more_ids)]\n",
    "    more_ids += unique\n",
    "    \n",
    "raw_data = {\n",
    "        'page_id' : more_ids,\n",
    "        'Weaknesses': super_weaknesses,\n",
    "        'Affinities': affinities,\n",
    "        'Killability': killability}\n",
    "\n"
   ]
  },
  {
   "cell_type": "markdown",
   "metadata": {
    "button": false,
    "deletable": true,
    "new_sheet": false,
    "run_control": {
     "read_only": false
    }
   },
   "source": [
    "### Create a new dataframe with your raw data"
   ]
  },
  {
   "cell_type": "code",
   "execution_count": 6,
   "metadata": {
    "button": false,
    "collapsed": false,
    "deletable": true,
    "new_sheet": false,
    "run_control": {
     "read_only": false
    }
   },
   "outputs": [
    {
     "name": "stdout",
     "output_type": "stream",
     "text": [
      "17194\n"
     ]
    },
    {
     "data": {
      "text/html": [
       "<div>\n",
       "<table border=\"1\" class=\"dataframe\">\n",
       "  <thead>\n",
       "    <tr style=\"text-align: right;\">\n",
       "      <th></th>\n",
       "      <th>Affinities</th>\n",
       "      <th>Killability</th>\n",
       "      <th>Weaknesses</th>\n",
       "      <th>page_id</th>\n",
       "    </tr>\n",
       "  </thead>\n",
       "  <tbody>\n",
       "    <tr>\n",
       "      <th>0</th>\n",
       "      <td>storms</td>\n",
       "      <td>1</td>\n",
       "      <td>ponies</td>\n",
       "      <td>1678</td>\n",
       "    </tr>\n",
       "    <tr>\n",
       "      <th>1</th>\n",
       "      <td>Kanye West</td>\n",
       "      <td>10</td>\n",
       "      <td>Walmart</td>\n",
       "      <td>7139</td>\n",
       "    </tr>\n",
       "    <tr>\n",
       "      <th>2</th>\n",
       "      <td>Kanye West</td>\n",
       "      <td>9</td>\n",
       "      <td>Shaq</td>\n",
       "      <td>64786</td>\n",
       "    </tr>\n",
       "    <tr>\n",
       "      <th>3</th>\n",
       "      <td>balloons</td>\n",
       "      <td>5</td>\n",
       "      <td>ponies</td>\n",
       "      <td>1868</td>\n",
       "    </tr>\n",
       "    <tr>\n",
       "      <th>4</th>\n",
       "      <td>clouds</td>\n",
       "      <td>2</td>\n",
       "      <td>apple pie</td>\n",
       "      <td>2460</td>\n",
       "    </tr>\n",
       "  </tbody>\n",
       "</table>\n",
       "</div>"
      ],
      "text/plain": [
       "   Affinities  Killability Weaknesses  page_id\n",
       "0      storms            1     ponies     1678\n",
       "1  Kanye West           10    Walmart     7139\n",
       "2  Kanye West            9       Shaq    64786\n",
       "3    balloons            5     ponies     1868\n",
       "4      clouds            2  apple pie     2460"
      ]
     },
     "execution_count": 6,
     "metadata": {},
     "output_type": "execute_result"
    }
   ],
   "source": [
    "marvel = pd.DataFrame(raw_data)\n",
    "print len(marvel)\n",
    "marvel.head()\n"
   ]
  },
  {
   "cell_type": "markdown",
   "metadata": {
    "button": false,
    "deletable": true,
    "new_sheet": false,
    "run_control": {
     "read_only": false
    }
   },
   "source": [
    "### What print out the ids in your data that don't match the ids in marvel.csv"
   ]
  },
  {
   "cell_type": "code",
   "execution_count": 7,
   "metadata": {
    "button": false,
    "collapsed": false,
    "deletable": true,
    "new_sheet": false,
    "run_control": {
     "read_only": false
    }
   },
   "outputs": [
    {
     "data": {
      "text/plain": [
       "818"
      ]
     },
     "execution_count": 7,
     "metadata": {},
     "output_type": "execute_result"
    }
   ],
   "source": [
    "outer = pd.merge(df,marvel, on='page_id', how='outer' )\n",
    "len(outer.ix[outer['name'].isnull()]['page_id'])"
   ]
  },
  {
   "cell_type": "code",
   "execution_count": 8,
   "metadata": {
    "collapsed": false
   },
   "outputs": [
    {
     "data": {
      "text/plain": [
       "818"
      ]
     },
     "execution_count": 8,
     "metadata": {},
     "output_type": "execute_result"
    }
   ],
   "source": [
    "len(marvel['page_id'][~marvel['page_id'].isin(df['page_id'].values)])"
   ]
  },
  {
   "cell_type": "markdown",
   "metadata": {
    "button": false,
    "deletable": true,
    "new_sheet": false,
    "run_control": {
     "read_only": false
    }
   },
   "source": [
    "### Perform an inner join with your dataframes. This should automatically throw out the values that don't map to each other"
   ]
  },
  {
   "cell_type": "code",
   "execution_count": 109,
   "metadata": {
    "button": false,
    "collapsed": false,
    "deletable": true,
    "new_sheet": false,
    "run_control": {
     "read_only": false
    }
   },
   "outputs": [
    {
     "name": "stdout",
     "output_type": "stream",
     "text": [
      "16376\n"
     ]
    }
   ],
   "source": [
    "inner = pd.merge(df, marvel, on='page_id', how='inner')\n",
    " \n",
    "\n",
    "print len(inner)\n"
   ]
  },
  {
   "cell_type": "markdown",
   "metadata": {
    "button": false,
    "deletable": true,
    "new_sheet": false,
    "run_control": {
     "read_only": false
    }
   },
   "source": [
    "\n",
    "### The Brain ([Leader of the League/Brotherhood of Evil](https://en.wikipedia.org/wiki/Brain_(comics))) has asked you to evaluate your data. Since funds are short, the league wants to know which Good Aligned hero weakness is most beneficial to invest in. Make sure the heros are still alive. No use investing in problems we don't have."
   ]
  },
  {
   "cell_type": "code",
   "execution_count": 10,
   "metadata": {
    "button": false,
    "collapsed": false,
    "deletable": true,
    "new_sheet": false,
    "run_control": {
     "read_only": false
    }
   },
   "outputs": [
    {
     "data": {
      "text/plain": [
       "gerbils    288\n",
       "Name: Weaknesses, dtype: int64"
      ]
     },
     "execution_count": 10,
     "metadata": {},
     "output_type": "execute_result"
    }
   ],
   "source": [
    "inner[(inner['ALIGN'] == 'Good Characters') & (inner['ALIVE'] == 'Living Characters')]['Weaknesses'].value_counts()[0:1]"
   ]
  },
  {
   "cell_type": "markdown",
   "metadata": {
    "button": false,
    "deletable": true,
    "new_sheet": false,
    "run_control": {
     "read_only": false
    }
   },
   "source": [
    "### Phobia ([League/Brotherhood of Evil Platinum Member](https://en.wikipedia.org/wiki/Phobia_(comics)) is more interested in the affinities of the Good Aligned heros with their identities exposed. Which affinity would you recommend the guild invest in?"
   ]
  },
  {
   "cell_type": "code",
   "execution_count": 11,
   "metadata": {
    "button": false,
    "collapsed": false,
    "deletable": true,
    "new_sheet": false,
    "run_control": {
     "read_only": false
    }
   },
   "outputs": [
    {
     "name": "stdout",
     "output_type": "stream",
     "text": [
      "Secret Identity                  6275\n",
      "Public Identity                  4528\n",
      "No Dual Identity                 1788\n",
      "Known to Authorities Identity      15\n",
      "Name: ID, dtype: int64\n"
     ]
    },
    {
     "data": {
      "text/plain": [
       "bubble gum           250\n",
       "Kanye West           242\n",
       "plasma laser guns    241\n",
       "balloons             240\n",
       "storms               239\n",
       "shag rugs            239\n",
       "clouds               233\n",
       "Panda Express        229\n",
       "preschools           228\n",
       "ghosts               226\n",
       "bouncy balls         221\n",
       "milkshakes           219\n",
       "rubber ducks         216\n",
       "Name: Affinities, dtype: int64"
      ]
     },
     "execution_count": 11,
     "metadata": {},
     "output_type": "execute_result"
    }
   ],
   "source": [
    "print inner['ID'].value_counts()\n",
    "\n",
    "inner[(inner.ALIGN == 'Good Characters') & (inner.ID != 'Secret Identity')]['Affinities'].value_counts()"
   ]
  },
  {
   "cell_type": "markdown",
   "metadata": {
    "button": false,
    "deletable": true,
    "new_sheet": false,
    "run_control": {
     "read_only": false
    }
   },
   "source": [
    "### Madame Rouge ([League/Brotherhood of Evil House Mom](https://en.wikipedia.org/wiki/Madame_Rouge)) is concerned about the killability of our heros based on their alignment. Let's create a table for her, comparing our hero's alignments with their killability."
   ]
  },
  {
   "cell_type": "code",
   "execution_count": 14,
   "metadata": {
    "button": false,
    "collapsed": false,
    "deletable": true,
    "new_sheet": false,
    "run_control": {
     "read_only": false
    }
   },
   "outputs": [
    {
     "data": {
      "text/html": [
       "<div>\n",
       "<table border=\"1\" class=\"dataframe\">\n",
       "  <thead>\n",
       "    <tr>\n",
       "      <th></th>\n",
       "      <th colspan=\"11\" halign=\"left\">page_id</th>\n",
       "    </tr>\n",
       "    <tr>\n",
       "      <th>Killability</th>\n",
       "      <th>1</th>\n",
       "      <th>2</th>\n",
       "      <th>3</th>\n",
       "      <th>4</th>\n",
       "      <th>5</th>\n",
       "      <th>6</th>\n",
       "      <th>7</th>\n",
       "      <th>8</th>\n",
       "      <th>9</th>\n",
       "      <th>10</th>\n",
       "      <th>All</th>\n",
       "    </tr>\n",
       "    <tr>\n",
       "      <th>ALIGN</th>\n",
       "      <th></th>\n",
       "      <th></th>\n",
       "      <th></th>\n",
       "      <th></th>\n",
       "      <th></th>\n",
       "      <th></th>\n",
       "      <th></th>\n",
       "      <th></th>\n",
       "      <th></th>\n",
       "      <th></th>\n",
       "      <th></th>\n",
       "    </tr>\n",
       "  </thead>\n",
       "  <tbody>\n",
       "    <tr>\n",
       "      <th>Bad Characters</th>\n",
       "      <td>713.0</td>\n",
       "      <td>644.0</td>\n",
       "      <td>685.0</td>\n",
       "      <td>676.0</td>\n",
       "      <td>656.0</td>\n",
       "      <td>707.0</td>\n",
       "      <td>703.0</td>\n",
       "      <td>649.0</td>\n",
       "      <td>642.0</td>\n",
       "      <td>645.0</td>\n",
       "      <td>6720.0</td>\n",
       "    </tr>\n",
       "    <tr>\n",
       "      <th>Good Characters</th>\n",
       "      <td>461.0</td>\n",
       "      <td>486.0</td>\n",
       "      <td>435.0</td>\n",
       "      <td>450.0</td>\n",
       "      <td>477.0</td>\n",
       "      <td>464.0</td>\n",
       "      <td>504.0</td>\n",
       "      <td>493.0</td>\n",
       "      <td>426.0</td>\n",
       "      <td>440.0</td>\n",
       "      <td>4636.0</td>\n",
       "    </tr>\n",
       "    <tr>\n",
       "      <th>Neutral Characters</th>\n",
       "      <td>218.0</td>\n",
       "      <td>210.0</td>\n",
       "      <td>214.0</td>\n",
       "      <td>243.0</td>\n",
       "      <td>211.0</td>\n",
       "      <td>215.0</td>\n",
       "      <td>223.0</td>\n",
       "      <td>229.0</td>\n",
       "      <td>212.0</td>\n",
       "      <td>233.0</td>\n",
       "      <td>2208.0</td>\n",
       "    </tr>\n",
       "    <tr>\n",
       "      <th>All</th>\n",
       "      <td>1392.0</td>\n",
       "      <td>1340.0</td>\n",
       "      <td>1334.0</td>\n",
       "      <td>1369.0</td>\n",
       "      <td>1344.0</td>\n",
       "      <td>1386.0</td>\n",
       "      <td>1430.0</td>\n",
       "      <td>1371.0</td>\n",
       "      <td>1280.0</td>\n",
       "      <td>1318.0</td>\n",
       "      <td>13564.0</td>\n",
       "    </tr>\n",
       "  </tbody>\n",
       "</table>\n",
       "</div>"
      ],
      "text/plain": [
       "                   page_id                                                  \\\n",
       "Killability              1       2       3       4       5       6       7   \n",
       "ALIGN                                                                        \n",
       "Bad Characters       713.0   644.0   685.0   676.0   656.0   707.0   703.0   \n",
       "Good Characters      461.0   486.0   435.0   450.0   477.0   464.0   504.0   \n",
       "Neutral Characters   218.0   210.0   214.0   243.0   211.0   215.0   223.0   \n",
       "All                 1392.0  1340.0  1334.0  1369.0  1344.0  1386.0  1430.0   \n",
       "\n",
       "                                                     \n",
       "Killability              8       9      10      All  \n",
       "ALIGN                                                \n",
       "Bad Characters       649.0   642.0   645.0   6720.0  \n",
       "Good Characters      493.0   426.0   440.0   4636.0  \n",
       "Neutral Characters   229.0   212.0   233.0   2208.0  \n",
       "All                 1371.0  1280.0  1318.0  13564.0  "
      ]
     },
     "execution_count": 14,
     "metadata": {},
     "output_type": "execute_result"
    }
   ],
   "source": [
    "pd.pivot_table(inner, index =[\"ALIGN\"], columns =['Killability'],values=['page_id'], aggfunc=len,margins=True)\n",
    "\n",
    "# inner.columns.values"
   ]
  },
  {
   "cell_type": "code",
   "execution_count": 16,
   "metadata": {
    "collapsed": false
   },
   "outputs": [
    {
     "data": {
      "text/plain": [
       "array(['page_id', 'name', 'urlslug', 'ID', 'ALIGN', 'EYE', 'HAIR', 'SEX',\n",
       "       'GSM', 'ALIVE', 'APPEARANCES', 'FIRST APPEARANCE', 'Year',\n",
       "       'Affinities', 'Killability', 'Weaknesses'], dtype=object)"
      ]
     },
     "execution_count": 16,
     "metadata": {},
     "output_type": "execute_result"
    }
   ],
   "source": [
    "inner.columns.values"
   ]
  },
  {
   "cell_type": "markdown",
   "metadata": {
    "button": false,
    "deletable": true,
    "new_sheet": false,
    "run_control": {
     "read_only": false
    }
   },
   "source": [
    "### Madame Rouge ([League/Brotherhood of Evil House Mom](https://en.wikipedia.org/wiki/Madame_Rouge)) is also concerned about the affinity of our heros based on their alignment. Let's create a table for her, comparing our hero's alignments with their affinities."
   ]
  },
  {
   "cell_type": "code",
   "execution_count": 18,
   "metadata": {
    "button": false,
    "collapsed": false,
    "deletable": true,
    "new_sheet": false,
    "run_control": {
     "read_only": false
    }
   },
   "outputs": [
    {
     "data": {
      "text/html": [
       "<div>\n",
       "<table border=\"1\" class=\"dataframe\">\n",
       "  <thead>\n",
       "    <tr>\n",
       "      <th></th>\n",
       "      <th colspan=\"14\" halign=\"left\">page_id</th>\n",
       "    </tr>\n",
       "    <tr>\n",
       "      <th>Affinities</th>\n",
       "      <th>Kanye West</th>\n",
       "      <th>Panda Express</th>\n",
       "      <th>balloons</th>\n",
       "      <th>bouncy balls</th>\n",
       "      <th>bubble gum</th>\n",
       "      <th>clouds</th>\n",
       "      <th>ghosts</th>\n",
       "      <th>milkshakes</th>\n",
       "      <th>plasma laser guns</th>\n",
       "      <th>preschools</th>\n",
       "      <th>rubber ducks</th>\n",
       "      <th>shag rugs</th>\n",
       "      <th>storms</th>\n",
       "      <th>All</th>\n",
       "    </tr>\n",
       "    <tr>\n",
       "      <th>ALIGN</th>\n",
       "      <th></th>\n",
       "      <th></th>\n",
       "      <th></th>\n",
       "      <th></th>\n",
       "      <th></th>\n",
       "      <th></th>\n",
       "      <th></th>\n",
       "      <th></th>\n",
       "      <th></th>\n",
       "      <th></th>\n",
       "      <th></th>\n",
       "      <th></th>\n",
       "      <th></th>\n",
       "      <th></th>\n",
       "    </tr>\n",
       "  </thead>\n",
       "  <tbody>\n",
       "    <tr>\n",
       "      <th>Bad Characters</th>\n",
       "      <td>552.0</td>\n",
       "      <td>536.0</td>\n",
       "      <td>517.0</td>\n",
       "      <td>460.0</td>\n",
       "      <td>529.0</td>\n",
       "      <td>524.0</td>\n",
       "      <td>530.0</td>\n",
       "      <td>529.0</td>\n",
       "      <td>495.0</td>\n",
       "      <td>493.0</td>\n",
       "      <td>517.0</td>\n",
       "      <td>553.0</td>\n",
       "      <td>485.0</td>\n",
       "      <td>6720.0</td>\n",
       "    </tr>\n",
       "    <tr>\n",
       "      <th>Good Characters</th>\n",
       "      <td>361.0</td>\n",
       "      <td>340.0</td>\n",
       "      <td>378.0</td>\n",
       "      <td>333.0</td>\n",
       "      <td>360.0</td>\n",
       "      <td>346.0</td>\n",
       "      <td>352.0</td>\n",
       "      <td>333.0</td>\n",
       "      <td>366.0</td>\n",
       "      <td>355.0</td>\n",
       "      <td>342.0</td>\n",
       "      <td>392.0</td>\n",
       "      <td>378.0</td>\n",
       "      <td>4636.0</td>\n",
       "    </tr>\n",
       "    <tr>\n",
       "      <th>Neutral Characters</th>\n",
       "      <td>169.0</td>\n",
       "      <td>150.0</td>\n",
       "      <td>161.0</td>\n",
       "      <td>184.0</td>\n",
       "      <td>197.0</td>\n",
       "      <td>141.0</td>\n",
       "      <td>186.0</td>\n",
       "      <td>178.0</td>\n",
       "      <td>180.0</td>\n",
       "      <td>151.0</td>\n",
       "      <td>157.0</td>\n",
       "      <td>173.0</td>\n",
       "      <td>181.0</td>\n",
       "      <td>2208.0</td>\n",
       "    </tr>\n",
       "    <tr>\n",
       "      <th>All</th>\n",
       "      <td>1082.0</td>\n",
       "      <td>1026.0</td>\n",
       "      <td>1056.0</td>\n",
       "      <td>977.0</td>\n",
       "      <td>1086.0</td>\n",
       "      <td>1011.0</td>\n",
       "      <td>1068.0</td>\n",
       "      <td>1040.0</td>\n",
       "      <td>1041.0</td>\n",
       "      <td>999.0</td>\n",
       "      <td>1016.0</td>\n",
       "      <td>1118.0</td>\n",
       "      <td>1044.0</td>\n",
       "      <td>13564.0</td>\n",
       "    </tr>\n",
       "  </tbody>\n",
       "</table>\n",
       "</div>"
      ],
      "text/plain": [
       "                      page_id                                                 \\\n",
       "Affinities         Kanye West Panda Express balloons bouncy balls bubble gum   \n",
       "ALIGN                                                                          \n",
       "Bad Characters          552.0         536.0    517.0        460.0      529.0   \n",
       "Good Characters         361.0         340.0    378.0        333.0      360.0   \n",
       "Neutral Characters      169.0         150.0    161.0        184.0      197.0   \n",
       "All                    1082.0        1026.0   1056.0        977.0     1086.0   \n",
       "\n",
       "                                                                            \\\n",
       "Affinities          clouds  ghosts milkshakes plasma laser guns preschools   \n",
       "ALIGN                                                                        \n",
       "Bad Characters       524.0   530.0      529.0             495.0      493.0   \n",
       "Good Characters      346.0   352.0      333.0             366.0      355.0   \n",
       "Neutral Characters   141.0   186.0      178.0             180.0      151.0   \n",
       "All                 1011.0  1068.0     1040.0            1041.0      999.0   \n",
       "\n",
       "                                                            \n",
       "Affinities         rubber ducks shag rugs  storms      All  \n",
       "ALIGN                                                       \n",
       "Bad Characters            517.0     553.0   485.0   6720.0  \n",
       "Good Characters           342.0     392.0   378.0   4636.0  \n",
       "Neutral Characters        157.0     173.0   181.0   2208.0  \n",
       "All                      1016.0    1118.0  1044.0  13564.0  "
      ]
     },
     "execution_count": 18,
     "metadata": {},
     "output_type": "execute_result"
    }
   ],
   "source": [
    "pd.pivot_table(inner,index =[\"ALIGN\"], columns =['Affinities'],values =['page_id'], aggfunc=len, margins =True)\n",
    "               "
   ]
  },
  {
   "cell_type": "markdown",
   "metadata": {
    "button": false,
    "deletable": true,
    "new_sheet": false,
    "run_control": {
     "read_only": false
    }
   },
   "source": [
    "### General Immortus ([League/Brotherhood of Founding Member](https://en.wikipedia.org/wiki/General_Immortus)) took a look at your data and is concerned. Shouldn't we be adding all of our new data to our database? Let's merge all of our columns without regard to if they align or not."
   ]
  },
  {
   "cell_type": "code",
   "execution_count": 108,
   "metadata": {
    "button": false,
    "collapsed": false,
    "deletable": true,
    "new_sheet": false,
    "run_control": {
     "read_only": false
    }
   },
   "outputs": [
    {
     "data": {
      "text/html": [
       "<div>\n",
       "<table border=\"1\" class=\"dataframe\">\n",
       "  <thead>\n",
       "    <tr style=\"text-align: right;\">\n",
       "      <th></th>\n",
       "      <th>page_id</th>\n",
       "      <th>name</th>\n",
       "      <th>urlslug</th>\n",
       "      <th>ID</th>\n",
       "      <th>ALIGN</th>\n",
       "      <th>EYE</th>\n",
       "      <th>HAIR</th>\n",
       "      <th>SEX</th>\n",
       "      <th>GSM</th>\n",
       "      <th>ALIVE</th>\n",
       "      <th>APPEARANCES</th>\n",
       "      <th>FIRST APPEARANCE</th>\n",
       "      <th>Year</th>\n",
       "      <th>Affinities</th>\n",
       "      <th>Killability</th>\n",
       "      <th>Weaknesses</th>\n",
       "      <th>Character Created</th>\n",
       "    </tr>\n",
       "  </thead>\n",
       "  <tbody>\n",
       "    <tr>\n",
       "      <th>0</th>\n",
       "      <td>1678.0</td>\n",
       "      <td>Spider-Man (Peter Parker)</td>\n",
       "      <td>\\/Spider-Man_(Peter_Parker)</td>\n",
       "      <td>Secret Identity</td>\n",
       "      <td>Good Characters</td>\n",
       "      <td>Hazel Eyes</td>\n",
       "      <td>Brown Hair</td>\n",
       "      <td>Male Characters</td>\n",
       "      <td>NaN</td>\n",
       "      <td>Living Characters</td>\n",
       "      <td>4043.0</td>\n",
       "      <td>Aug-62</td>\n",
       "      <td>1962.0</td>\n",
       "      <td>storms</td>\n",
       "      <td>1</td>\n",
       "      <td>ponies</td>\n",
       "      <td>1962-08-01 00:00:00</td>\n",
       "    </tr>\n",
       "    <tr>\n",
       "      <th>1</th>\n",
       "      <td>7139.0</td>\n",
       "      <td>Captain America (Steven Rogers)</td>\n",
       "      <td>\\/Captain_America_(Steven_Rogers)</td>\n",
       "      <td>Public Identity</td>\n",
       "      <td>Good Characters</td>\n",
       "      <td>Blue Eyes</td>\n",
       "      <td>White Hair</td>\n",
       "      <td>Male Characters</td>\n",
       "      <td>NaN</td>\n",
       "      <td>Living Characters</td>\n",
       "      <td>3360.0</td>\n",
       "      <td>Mar-41</td>\n",
       "      <td>1941.0</td>\n",
       "      <td>Kanye West</td>\n",
       "      <td>10</td>\n",
       "      <td>Walmart</td>\n",
       "      <td>1941-03-01 00:00:00</td>\n",
       "    </tr>\n",
       "    <tr>\n",
       "      <th>2</th>\n",
       "      <td>64786.0</td>\n",
       "      <td>Wolverine (James \\\"Logan\\\" Howlett)</td>\n",
       "      <td>\\/Wolverine_(James_%22Logan%22_Howlett)</td>\n",
       "      <td>Public Identity</td>\n",
       "      <td>Neutral Characters</td>\n",
       "      <td>Blue Eyes</td>\n",
       "      <td>Black Hair</td>\n",
       "      <td>Male Characters</td>\n",
       "      <td>NaN</td>\n",
       "      <td>Living Characters</td>\n",
       "      <td>3061.0</td>\n",
       "      <td>Oct-74</td>\n",
       "      <td>1974.0</td>\n",
       "      <td>Kanye West</td>\n",
       "      <td>9</td>\n",
       "      <td>Shaq</td>\n",
       "      <td>1974-10-01 00:00:00</td>\n",
       "    </tr>\n",
       "    <tr>\n",
       "      <th>3</th>\n",
       "      <td>1868.0</td>\n",
       "      <td>Iron Man (Anthony \\\"Tony\\\" Stark)</td>\n",
       "      <td>\\/Iron_Man_(Anthony_%22Tony%22_Stark)</td>\n",
       "      <td>Public Identity</td>\n",
       "      <td>Good Characters</td>\n",
       "      <td>Blue Eyes</td>\n",
       "      <td>Black Hair</td>\n",
       "      <td>Male Characters</td>\n",
       "      <td>NaN</td>\n",
       "      <td>Living Characters</td>\n",
       "      <td>2961.0</td>\n",
       "      <td>Mar-63</td>\n",
       "      <td>1963.0</td>\n",
       "      <td>balloons</td>\n",
       "      <td>5</td>\n",
       "      <td>ponies</td>\n",
       "      <td>1963-03-01 00:00:00</td>\n",
       "    </tr>\n",
       "    <tr>\n",
       "      <th>4</th>\n",
       "      <td>2460.0</td>\n",
       "      <td>Thor (Thor Odinson)</td>\n",
       "      <td>\\/Thor_(Thor_Odinson)</td>\n",
       "      <td>No Dual Identity</td>\n",
       "      <td>Good Characters</td>\n",
       "      <td>Blue Eyes</td>\n",
       "      <td>Blond Hair</td>\n",
       "      <td>Male Characters</td>\n",
       "      <td>NaN</td>\n",
       "      <td>Living Characters</td>\n",
       "      <td>2258.0</td>\n",
       "      <td>Nov-50</td>\n",
       "      <td>1950.0</td>\n",
       "      <td>clouds</td>\n",
       "      <td>2</td>\n",
       "      <td>apple pie</td>\n",
       "      <td>1950-11-01 00:00:00</td>\n",
       "    </tr>\n",
       "  </tbody>\n",
       "</table>\n",
       "</div>"
      ],
      "text/plain": [
       "   page_id                                 name  \\\n",
       "0   1678.0            Spider-Man (Peter Parker)   \n",
       "1   7139.0      Captain America (Steven Rogers)   \n",
       "2  64786.0  Wolverine (James \\\"Logan\\\" Howlett)   \n",
       "3   1868.0    Iron Man (Anthony \\\"Tony\\\" Stark)   \n",
       "4   2460.0                  Thor (Thor Odinson)   \n",
       "\n",
       "                                   urlslug                ID  \\\n",
       "0              \\/Spider-Man_(Peter_Parker)   Secret Identity   \n",
       "1        \\/Captain_America_(Steven_Rogers)   Public Identity   \n",
       "2  \\/Wolverine_(James_%22Logan%22_Howlett)   Public Identity   \n",
       "3    \\/Iron_Man_(Anthony_%22Tony%22_Stark)   Public Identity   \n",
       "4                    \\/Thor_(Thor_Odinson)  No Dual Identity   \n",
       "\n",
       "                ALIGN         EYE        HAIR              SEX  GSM  \\\n",
       "0     Good Characters  Hazel Eyes  Brown Hair  Male Characters  NaN   \n",
       "1     Good Characters   Blue Eyes  White Hair  Male Characters  NaN   \n",
       "2  Neutral Characters   Blue Eyes  Black Hair  Male Characters  NaN   \n",
       "3     Good Characters   Blue Eyes  Black Hair  Male Characters  NaN   \n",
       "4     Good Characters   Blue Eyes  Blond Hair  Male Characters  NaN   \n",
       "\n",
       "               ALIVE  APPEARANCES FIRST APPEARANCE    Year  Affinities  \\\n",
       "0  Living Characters       4043.0           Aug-62  1962.0      storms   \n",
       "1  Living Characters       3360.0           Mar-41  1941.0  Kanye West   \n",
       "2  Living Characters       3061.0           Oct-74  1974.0  Kanye West   \n",
       "3  Living Characters       2961.0           Mar-63  1963.0    balloons   \n",
       "4  Living Characters       2258.0           Nov-50  1950.0      clouds   \n",
       "\n",
       "   Killability Weaknesses    Character Created  \n",
       "0            1     ponies  1962-08-01 00:00:00  \n",
       "1           10    Walmart  1941-03-01 00:00:00  \n",
       "2            9       Shaq  1974-10-01 00:00:00  \n",
       "3            5     ponies  1963-03-01 00:00:00  \n",
       "4            2  apple pie  1950-11-01 00:00:00  "
      ]
     },
     "execution_count": 108,
     "metadata": {},
     "output_type": "execute_result"
    }
   ],
   "source": [
    "outer.head()"
   ]
  },
  {
   "cell_type": "markdown",
   "metadata": {
    "button": false,
    "deletable": true,
    "new_sheet": false,
    "run_control": {
     "read_only": false
    }
   },
   "source": [
    "### The General wants us to assume that all the heros in this new table without entries are deceased and good aligned. Let's update the table with our new data"
   ]
  },
  {
   "cell_type": "code",
   "execution_count": 29,
   "metadata": {
    "button": false,
    "collapsed": false,
    "deletable": true,
    "new_sheet": false,
    "run_control": {
     "read_only": false
    }
   },
   "outputs": [],
   "source": [
    "# sum(outer[\"ALIVE\"].isnull())\n",
    "outer[\"ALIVE\"] = outer[\"ALIVE\"].fillna('deceased')\n",
    "outer[\"ALIGN\"] = outer[\"ALIGN\"].fillna('Good Characters')"
   ]
  },
  {
   "cell_type": "markdown",
   "metadata": {
    "button": false,
    "deletable": true,
    "new_sheet": false,
    "run_control": {
     "read_only": false
    }
   },
   "source": [
    "### The General wants us to update our dates of first appearances so that we can more easily work with the data. Add a new column with the updated datetime field called \"Character Created\". If the date is blank, use 0 as the value (we will need to filter out these values during our analysis)."
   ]
  },
  {
   "cell_type": "code",
   "execution_count": 51,
   "metadata": {
    "button": false,
    "collapsed": false,
    "deletable": true,
    "new_sheet": false,
    "run_control": {
     "read_only": false
    }
   },
   "outputs": [],
   "source": [
    "import math\n",
    "lst =[]\n",
    "for i in outer.index.values:\n",
    "    if not math.isnan(outer['Year'][i]):\n",
    "        lst.append(pd.to_datetime(outer['FIRST APPEARANCE'][i][:3] + '-' + str(int(outer['Year'][i]))))\n",
    "    else:\n",
    "        lst.append(0)\n",
    "\n",
    "outer['Character Created'] = lst"
   ]
  },
  {
   "cell_type": "markdown",
   "metadata": {
    "button": false,
    "deletable": true,
    "new_sheet": false,
    "run_control": {
     "read_only": false
    }
   },
   "source": [
    "### Who was the first superhero to appear in our table?"
   ]
  },
  {
   "cell_type": "code",
   "execution_count": 118,
   "metadata": {
    "button": false,
    "collapsed": false,
    "deletable": true,
    "new_sheet": false,
    "run_control": {
     "read_only": false
    }
   },
   "outputs": [
    {
     "data": {
      "text/plain": [
       "60           Human Torch (Android) (Earth-616)\n",
       "306                Thomas Halloway (Earth-616)\n",
       "366                          Dorma (Earth-616)\n",
       "901                 Phineas Horton (Earth-616)\n",
       "1193                    David Rand (Earth-616)\n",
       "1938                           Zar (Earth-616)\n",
       "2283                   Jim Gardley (Earth-616)\n",
       "2550                        Trajah (Earth-616)\n",
       "2729     Lightning (Masked Raider) (Earth-616)\n",
       "4458                         Chaka (Earth-616)\n",
       "5084                 Anthony Sardo (Earth-616)\n",
       "5880                          Nono (Earth-616)\n",
       "5881                 Paul de Kraft (Earth-616)\n",
       "6977                   Ken Masters (Earth-616)\n",
       "6978                           Sha (Earth-616)\n",
       "8397           Fiorello La Guardia (Earth-616)\n",
       "8398                        Harris (Earth-616)\n",
       "8399                     John Rand (Earth-616)\n",
       "8401                           Kru (Earth-616)\n",
       "8402                          Quog (Earth-616)\n",
       "8403              Red (Sardo Gang) (Earth-616)\n",
       "10471        Bends (Masked Raider) (Earth-616)\n",
       "10473                        Bleck (Earth-616)\n",
       "10474                  Cal Brunder (Earth-616)\n",
       "10475               Constance Rand (Earth-616)\n",
       "10477      Dr. Lang (The Big Boss) (Earth-616)\n",
       "10478                 Dutch Hansen (Earth-616)\n",
       "10480                   Gus Ronson (Earth-616)\n",
       "10483                 John Crafton (Earth-616)\n",
       "10484                  John Dillon (Earth-616)\n",
       "10485                 John Roberts (Earth-616)\n",
       "10486                          Lil (Earth-616)\n",
       "10488                       Lordin (Earth-616)\n",
       "10490     Mike (John Crafton Gang) (Earth-616)\n",
       "10491                  Mike Malone (Earth-616)\n",
       "10493                      Mubangi (Earth-616)\n",
       "10498                        Rowdy (Earth-616)\n",
       "10500        Slick (Masked Raider) (Earth-616)\n",
       "10501     Slug (John Crafton Gang) (Earth-616)\n",
       "10502        Steve (Masked Raider) (Earth-616)\n",
       "10503                  Steve Enkel (Earth-616)\n",
       "10506                  Tim Roberts (Earth-616)\n",
       "10508                 Trigger Bolo (Earth-616)\n",
       "10510                      Wal-Lah (Earth-616)\n",
       "15281        Mr. Harris' Secretary (Earth-616)\n",
       "15282                       N'Jaga (Earth-616)\n",
       "Name: name, dtype: object"
      ]
     },
     "execution_count": 118,
     "metadata": {},
     "output_type": "execute_result"
    }
   ],
   "source": [
    "mindate = min(outer[outer['Character Created'] != 0]['Character Created'])\n",
    "\n",
    "outer[outer['Character Created'] == min(outer[outer['Character Created'] != 0]['Character Created'])]['name']\n",
    "\n",
    "# outer[(outer['Character Created'] == min(outer[outer['Character Created'] != 0]['Character Created'])) &\n",
    "#       (outer['ALIGN'] == 'Good Characters')]['name']"
   ]
  },
  {
   "cell_type": "markdown",
   "metadata": {
    "run_control": {}
   },
   "source": [
    "### Who was the lastest superhero to appear in our table?"
   ]
  },
  {
   "cell_type": "code",
   "execution_count": 106,
   "metadata": {
    "collapsed": false,
    "run_control": {}
   },
   "outputs": [
    {
     "data": {
      "text/plain": [
       "6912                Miss Coriander (Earth-616)\n",
       "8306                         Ikari (Earth-616)\n",
       "8310                     Validator (Earth-616)\n",
       "10350                   Boss Cohen (Earth-616)\n",
       "10356                      Kingdom (Earth-616)\n",
       "10367       Wendigo (Omega Flight) (Earth-616)\n",
       "14994                         Boxx (Earth-616)\n",
       "14996           Celestial Gardener (Earth-616)\n",
       "15001         Death (11th Century) (Earth-616)\n",
       "15002        Famine (11th Century) (Earth-616)\n",
       "15004               Folkbern Logan (Earth-616)\n",
       "15015                   Kyzerra Os (Earth-616)\n",
       "15017      Man-Thing (Savage Land) (Earth-616)\n",
       "15020                       Megatu (Earth-616)\n",
       "15027    Pestilence (11th Century) (Earth-616)\n",
       "15030               Robert Michaud (Earth-616)\n",
       "15034           War (11th Century) (Earth-616)\n",
       "Name: name, dtype: object"
      ]
     },
     "execution_count": 106,
     "metadata": {},
     "output_type": "execute_result"
    }
   ],
   "source": [
    "maxdate = max(outer[outer['Character Created'] != 0]['Character Created'])\n",
    "\n",
    "outer[outer['Character Created'] == max(outer[outer['Character Created'] != 0]['Character Created'])]['name']"
   ]
  },
  {
   "cell_type": "markdown",
   "metadata": {
    "run_control": {}
   },
   "source": [
    "### What was the date difference between their appearances?"
   ]
  },
  {
   "cell_type": "code",
   "execution_count": 107,
   "metadata": {
    "collapsed": false,
    "run_control": {}
   },
   "outputs": [
    {
     "data": {
      "text/plain": [
       "Timedelta('26907 days 00:00:00')"
      ]
     },
     "execution_count": 107,
     "metadata": {},
     "output_type": "execute_result"
    }
   ],
   "source": [
    "maxdate - mindate"
   ]
  },
  {
   "cell_type": "code",
   "execution_count": 21,
   "metadata": {
    "collapsed": false
   },
   "outputs": [],
   "source": [
    "\n",
    "        "
   ]
  }
 ],
 "metadata": {
  "anaconda-cloud": {},
  "kernelspec": {
   "display_name": "Python [default]",
   "language": "python",
   "name": "python2"
  }
 },
 "nbformat": 4,
 "nbformat_minor": 0
}
